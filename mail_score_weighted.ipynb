{
  "nbformat": 4,
  "nbformat_minor": 0,
  "metadata": {
    "colab": {
      "provenance": []
    },
    "kernelspec": {
      "name": "python3",
      "display_name": "Python 3"
    },
    "language_info": {
      "name": "python"
    }
  },
  "cells": [
    {
      "cell_type": "markdown",
      "source": [
        "# 1. 初期設定"
      ],
      "metadata": {
        "id": "98LfBACUTMC-"
      }
    },
    {
      "cell_type": "code",
      "source": [
        "# 環境設定\n",
        "!pip install mecab-python3 # 形態素解析ライブラリ MeCab\n",
        "!pip install unidic # システム辞書 UniDic\n",
        "!python -m unidic download # システム辞書 UniDic"
      ],
      "metadata": {
        "id": "jrtjOcL8LtzI"
      },
      "execution_count": null,
      "outputs": []
    },
    {
      "cell_type": "code",
      "execution_count": null,
      "metadata": {
        "id": "1QTnD-tlrDEC"
      },
      "outputs": [],
      "source": [
        "# ライブラリ導入\n",
        "import pandas as pd # pandas\n",
        "import numpy as np # NumPy\n",
        "import unicodedata # 文字コード\n",
        "import MeCab # 形態素解析\n",
        "from collections import Counter # カウンター\n",
        "import requests # HTTP通信\n",
        "import unidic # システム辞書\n",
        "import re # 正規表現\n",
        "import os # ファイル操作\n",
        "import itertools # ループ\n",
        "import ipywidgets as widgets # ウィジェット\n",
        "from IPython.display import display, clear_output # 表示\n",
        "\n",
        "from google.colab import drive # Google Drive\n",
        "drive.mount('/content/drive') # Google Drive マウント\n",
        "\n",
        "os.chdir('/content/drive/MyDrive/User') # 作業ディレクトリの変更"
      ]
    },
    {
      "cell_type": "code",
      "source": [
        "# 教師データ\n",
        "zero_mail = pd.read_csv('weight_zero.csv', encoding = 'cp932') # クレーム度 0\n",
        "one_mail = pd.read_csv('weight_one.csv', encoding = 'cp932') # クレーム度 1\n",
        "two_mail = pd.read_csv('weight_two.csv', encoding = 'cp932') # クレーム度 2"
      ],
      "metadata": {
        "id": "lRTngLsGrlYI"
      },
      "execution_count": null,
      "outputs": []
    },
    {
      "cell_type": "code",
      "source": [
        "## 処理を軽くするためにデータ数を減らしています。実装時には削除。\n",
        "zero_mail = zero_mail.head(500)"
      ],
      "metadata": {
        "id": "9JIocAAOtMHs"
      },
      "execution_count": null,
      "outputs": []
    },
    {
      "cell_type": "code",
      "source": [
        "# クレーム度の設定（0は固定）\n",
        "## この係数を変えることで「クレーム」と「クレームになる可能性があったもの」の比重を変更できます\n",
        "mid = 1 # クレーム度 1の係数\n",
        "high = 2 # クレーム度 2の係数"
      ],
      "metadata": {
        "id": "GMMQ9Q1xh50J"
      },
      "execution_count": null,
      "outputs": []
    },
    {
      "cell_type": "markdown",
      "source": [
        "# 2. 形態素解析"
      ],
      "metadata": {
        "id": "ZJSvA4sQrJ6Q"
      }
    },
    {
      "cell_type": "code",
      "source": [
        "# 形態素解析の関数宣言 func_2-1\n",
        "def morpheme_tokenizer(text_input):\n",
        "  # 形態素解析の関数宣言 func_2-1-1\n",
        "  def morpheme(text):\n",
        "    # 形態素解析\n",
        "    mecab = MeCab.Tagger()\n",
        "    cell_parse = mecab.parse(text)\n",
        "    lines = cell_parse.splitlines()\n",
        "    # EOS（End Of Sentence）の削除\n",
        "    lines = lines[:-1]\n",
        "    data = []\n",
        "    # 形態素解析後の各カラムの分離\n",
        "    for line in lines:\n",
        "      surface, feature = line.split('\\t')\n",
        "      feature = [None if f == '*' else f for f in feature.split(',')]\n",
        "      data.append([surface, *feature])\n",
        "    return pd.DataFrame(data)\n",
        "\n",
        "  # 形態素解析の実行及びデータフレーム化\n",
        "  words_df = morpheme(text_input) # func_2-1-1\n",
        "\n",
        "  # 表層形・品詞・原形のみ抽出\n",
        "  if not words_df.empty:\n",
        "    surface_parts_df = words_df.iloc[:, 0:2].reset_index(drop=True)\n",
        "    original = words_df.iloc[:, 8:9].reset_index(drop=True)\n",
        "    words_df_edit = pd.concat([surface_parts_df, original], axis=1)\n",
        "    COLUMNS = ['表層形', '品詞', '原形']\n",
        "    words_df_edit.columns = COLUMNS\n",
        "    # 名詞・形容詞・動詞・副詞のみ抽出\n",
        "    words_df_edit = words_df_edit[words_df_edit['品詞'].isin(['名詞', '形容詞', '動詞', '副詞'])]\n",
        "    # 形態素解析結果をリスト化\n",
        "    word_cloud_list = list(words_df_edit['原形'].dropna())\n",
        "    # ひらがなのみ除外（ひらがなのみもカウントする場合はコメントアウト）\n",
        "    def remove_eng(word): # func_2-1-2\n",
        "        return re.sub(r'-[a-zA-Z]+', '', word)\n",
        "    kana_re = re.compile(\"[^あ-ゖ]\")\n",
        "    word_cloud_list_edit = [s for s in word_cloud_list if kana_re.match(s)]\n",
        "    word_cloud_list_edit = [remove_eng(t) for t in word_cloud_list_edit] # func_2-1-2\n",
        "    return word_cloud_list_edit\n",
        "  else:\n",
        "    return []"
      ],
      "metadata": {
        "id": "maeygrjcsTg4"
      },
      "execution_count": null,
      "outputs": []
    },
    {
      "cell_type": "markdown",
      "source": [
        "# 3. コンビネーション"
      ],
      "metadata": {
        "id": "1-GIAE1udR4k"
      }
    },
    {
      "cell_type": "code",
      "source": [
        "# コロケーションカウントの関数宣言 func_3-1\n",
        "def count_collocation(text):\n",
        "  cells = [morpheme_tokenizer(text)] # func_2-1\n",
        "  cells_combs = [list(itertools.combinations(cell,2)) for cell in cells]\n",
        "  words_combs = [[tuple(sorted(words)) for words in cell] for cell in cells_combs]\n",
        "  target_combs = []\n",
        "  for words_comb in words_combs:\n",
        "    target_combs.extend(words_comb)\n",
        "  # 一時変数に格納\n",
        "  temp_count = Counter(target_combs)\n",
        "  temp_df = pd.DataFrame([{\"前\" : i[0][0], \"後\": i[0][1], \"Count\":i[1]} for i in temp_count.most_common()])\n",
        "  return temp_df"
      ],
      "metadata": {
        "id": "pCp9Hm2UeWso"
      },
      "execution_count": null,
      "outputs": []
    },
    {
      "cell_type": "code",
      "source": [
        "# コロケーション合算（一時変数を結合）の関数宣言 func_3-2\n",
        "def add_count(combs_df, temp_count):\n",
        "  combs_df = pd.merge(combs_df, temp_count, on=['前', '後'], how='outer', suffixes=('1', '2'))\n",
        "  combs_df.fillna(0, inplace=True)\n",
        "  combs_df['Count'] = combs_df[['Count1', 'Count2']].sum(axis=1)\n",
        "  combs_df = combs_df[['前', '後', 'Count']]\n",
        "  combs_df.sort_values('Count', ascending=False, inplace=True)\n",
        "  return combs_df"
      ],
      "metadata": {
        "id": "MmbRMTO2mBCn"
      },
      "execution_count": null,
      "outputs": []
    },
    {
      "cell_type": "code",
      "source": [
        "# 問い合わせのリストをループ（形態素解析・コンビネーション）func_3-3\n",
        "def loop_df(mail_df):\n",
        "  combs_df = pd.DataFrame(columns=['前', '後', 'Count'])\n",
        "  for cell in mail_df['受付内容']:\n",
        "    combs_df = add_count(combs_df, count_collocation(cell)) # func_3-1, func_3-2\n",
        "  return combs_df"
      ],
      "metadata": {
        "id": "KTad83qeeuV9"
      },
      "execution_count": null,
      "outputs": []
    },
    {
      "cell_type": "code",
      "source": [
        "# 教師データへの実行\n",
        "zero_combs = loop_df(zero_mail) # func_3-3\n",
        "one_combs = loop_df(one_mail) # func_3-3\n",
        "two_combs = loop_df(two_mail) # func_3-3\n",
        "dict_list = [zero_combs, one_combs, two_combs] # データフレームをリスト化"
      ],
      "metadata": {
        "id": "cWuAPMRnvfTC"
      },
      "execution_count": null,
      "outputs": []
    },
    {
      "cell_type": "markdown",
      "source": [
        "# 4. 比率計算"
      ],
      "metadata": {
        "id": "DIHpdaahc79K"
      }
    },
    {
      "cell_type": "code",
      "source": [
        "# 比率計算の関数宣言 func_4-1\n",
        "def calc_rate():\n",
        "  # 比率計算用データフレームの作成 func_4-1-1\n",
        "  def create_rate_df(zero_df, claim_df):\n",
        "    rate_df = pd.merge(zero_df, claim_df, on = ['前', '後'], how = 'inner')\n",
        "    rate_df.columns = ['前', '後', 'Zero Count', 'Claim Count']\n",
        "    rate_df['All Count'] = rate_df['Zero Count'] + rate_df['Claim Count']\n",
        "    return rate_df\n",
        "  # 比率計算の関数宣言 func_4-1-2\n",
        "  def calc_rate(rate_df):\n",
        "    rate_df['Rate'] = rate_df['Claim Count'] / rate_df['All Count']\n",
        "    rate_df['Rate'] = rate_df['Rate']\n",
        "    rate_df = rate_df.sort_values(['Rate', 'All Count'], ascending = False).reset_index(drop = True)\n",
        "    return rate_df\n",
        "  # データフレーム作成の実行\n",
        "  zero_one = create_rate_df(dict_list[0], dict_list[1]) # func_4-1-1\n",
        "  zero_two = create_rate_df(dict_list[0], dict_list[2]) # func_4-1-1\n",
        "  claim_dict_list = [zero_one, zero_two] # データフレームをリスト化\n",
        "  # 比率計算の実行\n",
        "  one_rate = calc_rate(claim_dict_list[0]) # func_4-1-2\n",
        "  two_rate = calc_rate(claim_dict_list[1]) # func_4-1-2\n",
        "  rate_dict_list = [one_rate, two_rate]\n",
        "  # クレーム度によるの重みづけ\n",
        "  rate_dict_list[0]['Raw Score'] = mid # クレーム度 1の係数\n",
        "  rate_dict_list[1]['Raw Score'] = high # クレーム度 2の係数\n",
        "  # 重みづけしたデータフレームの結合\n",
        "  red_rate = pd.concat([rate_dict_list[0], rate_dict_list[1]])\n",
        "  red_rate.drop_duplicates(subset = ['前', '後'], keep = 'last', inplace = True)\n",
        "  red_rate.reset_index(drop = True, inplace = True)\n",
        "  # スコア算出\n",
        "  red_rate['Score'] = red_rate['Raw Score'] * red_rate['Rate']\n",
        "  red_rate.reset_index(drop = True, inplace = True)\n",
        "  return red_rate"
      ],
      "metadata": {
        "id": "4YAYkz27wLiK"
      },
      "execution_count": null,
      "outputs": []
    },
    {
      "cell_type": "code",
      "source": [
        "# スコア表の作成\n",
        "red_rate = calc_rate() # func_4-1"
      ],
      "metadata": {
        "id": "-AHhoMGAD-Fu"
      },
      "execution_count": null,
      "outputs": []
    },
    {
      "cell_type": "markdown",
      "source": [
        "# 5. スコア計算"
      ],
      "metadata": {
        "id": "pEG3TwSEwVPs"
      }
    },
    {
      "cell_type": "code",
      "source": [
        "# スコア計算の関数宣言 func_5-1\n",
        "def calc_score(mail):\n",
        "  global new_count\n",
        "  # 不要字削除の関数宣言 1 func_5-1-1\n",
        "  def replace_words(text, word_to_remove, word_to_replace):\n",
        "    if isinstance(text, str):\n",
        "      return text.replace(word_to_remove, word_to_replace)\n",
        "    else:\n",
        "      return text\n",
        "\n",
        "  # 不要字削除の関数宣言 2 func_5-1-2\n",
        "  def remove(word):\n",
        "    if isinstance(word, str):\n",
        "      word = re.sub(r'[ 　_＿(（[［【「『<＜]', '', word)\n",
        "      word = re.sub(r'[)）\\]］】」』>＞]', '', word)\n",
        "      word = re.sub(r'\\d+\\.*\\d*', '', word)\n",
        "      word = re.sub(r'[①②③④⑤⑥⑦⑧⑨⑩〇?？!！&＆%％*＊+＋=＝:：■◆●★・/\\／→⇒←、。,，.．※#×～↓↑]', '', word)\n",
        "      word = re.sub(r'[-]', '', word)\n",
        "      return word\n",
        "    else:\n",
        "      return word\n",
        "\n",
        "  # データクレンジング実行\n",
        "  word_to_remove = '\\n'\n",
        "  word_to_replace = ''\n",
        "\n",
        "  mail = remove(mail) # func_5-1-1\n",
        "  mail = replace_words(mail, word_to_remove, word_to_replace) # func_5-1-2\n",
        "\n",
        "  # 新メールの形態素解析\n",
        "  new_count = count_collocation(mail) # func_3-1\n",
        "\n",
        "  # スコア計算\n",
        "  new_red_count = pd.merge(red_rate, new_count, on=['前', '後'], how='inner') # スコア表との比較\n",
        "  mail_claim_score = (new_red_count['Count'] * new_red_count['Score']).sum() # スコア計算\n",
        "  max_score = sum(new_count['Count'] * high) # スコア最大値計算 # クレーム度 2の係数\n",
        "  mail_score = (max_score - mail_claim_score) / max_score # スコア正規化（割合）\n",
        "  mail_score = int(mail_score * 10000) # スコア正規化（0-10000）\n",
        "  return mail_score"
      ],
      "metadata": {
        "id": "P5yRmE2WycsS"
      },
      "execution_count": null,
      "outputs": []
    },
    {
      "cell_type": "code",
      "source": [
        "# リスト化された新規問い合わせの一括スコア計算\n",
        "new_mail_df = pd.read_csv('weight_two.csv', encoding = 'cp932')\n",
        "new_mail_df['スコア'] = new_mail_df['受付内容'].apply(calc_score) # func_5-1\n",
        "new_mail_df.sort_values('スコア', ascending=True, inplace=True)\n",
        "new_mail_df.reset_index(drop=True, inplace=True)\n",
        "new_mail_df"
      ],
      "metadata": {
        "id": "6_dPD2IagcgR"
      },
      "execution_count": null,
      "outputs": []
    },
    {
      "cell_type": "markdown",
      "source": [
        "# 6. 学習"
      ],
      "metadata": {
        "id": "JKMdm9H-3W4Y"
      }
    },
    {
      "cell_type": "code",
      "source": [
        "# 評価関数宣言 func_6-1\n",
        "def add_evaluation_dropdown(options_list):\n",
        "  global new_mail_df\n",
        "  evaluation_column = [widgets.Dropdown(options=options_list, description='') for _ in range(len(new_mail_df))] #ドロップダウン\n",
        "  new_mail_df['評価'] = evaluation_column\n",
        "  return new_mail_df\n",
        "\n",
        "options_list = [('クレームになる可能性がない', 0), ('クレームになる可能性がある', 1), ('クレームである', 2)]\n",
        "\n",
        "# 新規問い合わせリストの全行評価 func_6-2\n",
        "def display_dataframe_with_widgets():\n",
        "  global new_mail_df\n",
        "  add_evaluation_dropdown(options_list) # func_6-1\n",
        "  for index, row in new_mail_df.iterrows():\n",
        "    hbox = widgets.HBox([widgets.Label(value=str(index)), row['評価']])\n",
        "    display(hbox) # 表示\n",
        "\n",
        "# 評価別分類 func_6-3\n",
        "def slice_new_mail_df(new_mail_df):\n",
        "  new_zero_df = new_mail_df[new_mail_df['評価'].apply(lambda x: x.value) == 0]\n",
        "  new_one_df = new_mail_df[new_mail_df['評価'].apply(lambda x: x.value) == 1]\n",
        "  new_two_df = new_mail_df[new_mail_df['評価'].apply(lambda x: x.value) == 2]\n",
        "  return new_zero_df, new_one_df, new_two_df\n",
        "\n",
        "# 問い合わせのリストをループ（形態素解析・コンビネーション） func_6-4\n",
        "def new_combs(new_zero_df, new_one_df, new_two_df):\n",
        "  new_zero_combs = loop_df(new_zero_df) # func_3-3\n",
        "  new_one_combs = loop_df(new_one_df) # func_3-3\n",
        "  new_two_combs = loop_df(new_two_df) # func_3-3\n",
        "  return new_zero_combs, new_one_combs, new_two_combs\n",
        "\n",
        "# データの加算 func_6-5\n",
        "def add_data(new_zero_combs, new_one_combs, new_two_combs):\n",
        "  global dict_list, red_rate\n",
        "  dict_list[0] = add_count(dict_list[0], new_zero_combs) # func_3-2\n",
        "  dict_list[1] = add_count(dict_list[1], new_one_combs) # func_3-2\n",
        "  dict_list[2] = add_count(dict_list[2], new_two_combs) # func_3-2\n",
        "\n",
        "  dict_list[0].sort_values(by='Count', ascending=False, inplace=True)\n",
        "  dict_list[1].sort_values(by='Count', ascending=False, inplace=True)\n",
        "  dict_list[2].sort_values(by='Count', ascending=False, inplace=True)\n",
        "\n",
        "  red_rate = calc_rate()\n",
        "\n",
        "# 登録ボタンの作成\n",
        "button = widgets.Button(\n",
        "  description='登録',\n",
        "  disabled=False,\n",
        "  button_style='',\n",
        ")\n",
        "\n",
        "# ボタンクリック時の処理 func_6-6\n",
        "def on_button_click(b):\n",
        "  print(new_mail_df)\n",
        "  new_zero_df, new_one_df, new_two_df = slice_new_mail_df(new_mail_df) # func_6-3\n",
        "  new_zero_combs, new_one_combs, new_two_combs = new_combs(new_zero_df, new_one_df, new_two_df) # func_6-4\n",
        "  add_data(new_zero_combs, new_one_combs, new_two_combs) # func_6-5\n",
        "  clear_output()\n",
        "  print('登録完了')\n",
        "\n",
        "button.on_click(on_button_click) # func_6-6"
      ],
      "metadata": {
        "id": "-rQtm2P-tQlF"
      },
      "execution_count": null,
      "outputs": []
    },
    {
      "cell_type": "code",
      "source": [
        "display_dataframe_with_widgets() # func_6-2\n",
        "display(button)"
      ],
      "metadata": {
        "id": "maXSfF-E7yY9"
      },
      "execution_count": null,
      "outputs": []
    }
  ]
}