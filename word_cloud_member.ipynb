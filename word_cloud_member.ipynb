{
  "nbformat": 4,
  "nbformat_minor": 0,
  "metadata": {
    "colab": {
      "provenance": [],
      "toc_visible": true
    },
    "kernelspec": {
      "name": "python3",
      "display_name": "Python 3"
    },
    "language_info": {
      "name": "python"
    }
  },
  "cells": [
    {
      "cell_type": "markdown",
      "source": [
        "# 環境構築"
      ],
      "metadata": {
        "id": "QIW_k3wlQfjz"
      }
    },
    {
      "cell_type": "code",
      "execution_count": null,
      "metadata": {
        "id": "55aPN1d24tv6"
      },
      "outputs": [],
      "source": [
        "# ライブラリ導入\n",
        "!apt-get -yq install fonts-ipafont-gothic\n",
        "import numpy as np\n",
        "import pandas as pd\n",
        "import os\n",
        "from google.colab import drive\n",
        "import matplotlib.pyplot as plt\n",
        "import matplotlib.font_manager as fm\n",
        "from wordcloud import WordCloud\n",
        "import ipywidgets as widgets\n",
        "from IPython.display import display, clear_output, HTML\n",
        "\n",
        "# Google Driveのマウント\n",
        "drive.mount('/content/drive')\n",
        "\n",
        "# 作業ディレクトリの変更\n",
        "os.chdir('/content/drive/MyDrive/User')"
      ]
    },
    {
      "cell_type": "markdown",
      "source": [
        "# ユーザ辞書の取得"
      ],
      "metadata": {
        "id": "R6VVDEe8w8nt"
      }
    },
    {
      "cell_type": "code",
      "source": [
        "# ユーザ辞書の設定\n",
        "user_dict = pd.read_csv('user_dict_edit_ver2.csv', encoding = 'cp932')"
      ],
      "metadata": {
        "id": "RZ_xT7iUw_BT"
      },
      "execution_count": null,
      "outputs": []
    },
    {
      "cell_type": "markdown",
      "source": [
        "# データプロセシング（顧客対応履歴）"
      ],
      "metadata": {
        "id": "qMjTwbLJkJzs"
      }
    },
    {
      "cell_type": "code",
      "source": [
        "# CSV取得（開発メンバーは'メンバー選択'で取得してます）\n",
        "cs_hist_df = pd.read_csv('cs_hist.csv', encoding = 'cp932')\n",
        "incident_mgmt_df = pd.read_csv('incident_mgmt.csv', encoding = 'cp932')\n",
        "implement = pd.read_csv('implement_edit.csv', encoding = 'cp932')\n",
        "implement.columns = ['契約ID', '担当者1', '担当者2']\n",
        "\n",
        "# データクレンジング関数の宣言\n",
        "def remove_words(text, word_to_remove):\n",
        "  return text.replace(word_to_remove, '')\n",
        "\n",
        "# データクレンジング実行\n",
        "word_to_remove = '\\n'\n",
        "cs_hist_df_edit = cs_hist_df.applymap(lambda x: remove_words(x, word_to_remove) if isinstance(x, str) else x).fillna('').loc[:, ['問合わせ番号', '受付内容', '契約ID']]\n",
        "incident_mgmt_df_edit = incident_mgmt_df.applymap(lambda x: remove_words(x, word_to_remove) if isinstance(x, str) else x).fillna('').loc[:, ['問合せ番号']]\n",
        "\n",
        "# 顧客対応からインシデントのみ抽出\n",
        "cs_incident_df = cs_hist_df_edit[cs_hist_df_edit['問合わせ番号'].isin(incident_mgmt_df_edit['問合せ番号'])].reset_index(drop=True)"
      ],
      "metadata": {
        "id": "n2nKqyN3kJCg"
      },
      "execution_count": null,
      "outputs": []
    },
    {
      "cell_type": "markdown",
      "source": [
        "# 契約ID抽出"
      ],
      "metadata": {
        "id": "jgheQbsGxS1m"
      }
    },
    {
      "cell_type": "code",
      "source": [
        "def implement_extract(selected_member):\n",
        "  global implement\n",
        "  implement_copy = implement.copy()\n",
        "  implement_copy = implement_copy[(implement_copy['担当者1'] == selected_member) | (implement_copy['担当者2'] == selected_member)]\n",
        "  contract_id_list = list(implement_copy['契約ID'])\n",
        "  print(contract_id_list)\n",
        "  return contract_id_list"
      ],
      "metadata": {
        "id": "1h_LJttvxndj"
      },
      "execution_count": null,
      "outputs": []
    },
    {
      "cell_type": "markdown",
      "source": [
        "# ワードクラウド"
      ],
      "metadata": {
        "id": "xtwqDaBAw09D"
      }
    },
    {
      "cell_type": "code",
      "source": [
        "def word_cloud(contract_id_list):\n",
        "  global cs_hist_df_edit, cs_incident_df, user_dict\n",
        "  cs_hist_df_copy = cs_hist_df_edit.copy()\n",
        "  cs_incident_copy = cs_incident_df.copy()\n",
        "  cs_hist_df_copy = cs_hist_df_copy[cs_hist_df_copy['契約ID'].isin(contract_id_list)]\n",
        "  cs_incident_copy = cs_incident_copy[cs_incident_copy['契約ID'].isin(contract_id_list)]\n",
        "\n",
        "  # カウント関数の宣言\n",
        "  def word_count(content_df):\n",
        "    count_list = []\n",
        "    for i in user_dict.index:\n",
        "      search_word = user_dict['Term'][i]\n",
        "      count_list.append(content_df['受付内容'].str.contains(search_word).sum())\n",
        "    user_dict_count = user_dict.copy()\n",
        "    user_dict_count['Count'] = count_list\n",
        "    user_dict_count.sort_values(by = 'Count', ascending = False, inplace=True)\n",
        "    user_dict_count.reset_index(drop = True, inplace = True)\n",
        "    return user_dict_count\n",
        "\n",
        "  cs_word_cloud_df = word_count(cs_hist_df_copy)\n",
        "  incident_word_cloud_df = word_count(cs_incident_copy)\n",
        "\n",
        "  def remove_zero(df):\n",
        "    df.drop(df[df['Count'] == 0].index, inplace=True)\n",
        "    return df\n",
        "\n",
        "  cs_word_cloud_df = remove_zero(cs_word_cloud_df)\n",
        "  incident_word_cloud_df = remove_zero(incident_word_cloud_df)\n",
        "\n",
        "  # 比率計算関数の宣言\n",
        "  def calc_rate(pop_df, samp_df):\n",
        "    calc_df = samp_df.sort_values(by = 'Term', ascending = False).reset_index(drop = True)\n",
        "    rate_df = pop_df[pop_df['Term'].isin(calc_df['Term'])].sort_values(by = 'Term', ascending = False).reset_index(drop = True)\n",
        "    rate_df.columns = ['Term', 'CS Count']\n",
        "    rate_df['Incident Count'] = calc_df['Count']\n",
        "    rate_df['Rate'] = rate_df['Incident Count'] / rate_df['CS Count'] * 100\n",
        "    rate_df['Rate'] = rate_df['Rate'].round(2)\n",
        "    rate_df.sort_values(['Rate', 'CS Count'], ascending = False, inplace = True)\n",
        "    rate_df.reset_index(drop = True, inplace = True)\n",
        "    return rate_df\n",
        "\n",
        "  cs_incident_rate_df = calc_rate(cs_word_cloud_df, incident_word_cloud_df)\n",
        "\n",
        "  # ワードクラウド作成関数の宣言\n",
        "  def word_cloud(word_cloud_df, freq):\n",
        "    # ワードクラウド用の辞書を作成\n",
        "    word_freq = dict(zip(word_cloud_df['Term'], word_cloud_df[freq]))\n",
        "    # ワードクラウドを作成\n",
        "    wordcloud = WordCloud(\n",
        "      background_color = \"white\",\n",
        "      width = 800,\n",
        "      height = 800,\n",
        "      font_path = '/usr/share/fonts/truetype/fonts-japanese-gothic.ttf',\n",
        "      colormap = 'viridis',\n",
        "      max_words = 50,\n",
        "      ).generate_from_frequencies(word_freq)\n",
        "    return wordcloud\n",
        "\n",
        "  try:\n",
        "    # ワードクラウド作成関数の実行\n",
        "    word_cloud_cs = word_cloud(cs_word_cloud_df, 'Count')\n",
        "    word_cloud_incident = word_cloud(incident_word_cloud_df, 'Count')\n",
        "    word_cloud_rate = word_cloud(cs_incident_rate_df, 'Rate')\n",
        "\n",
        "    # モデルの並列表示\n",
        "    fig, axs = plt.subplots(1, 3, figsize=(10, 5))\n",
        "    jp_font = fm.FontProperties(fname = '/usr/share/fonts/truetype/fonts-japanese-gothic.ttf')\n",
        "\n",
        "    # 各サブプロットにデータをプロット\n",
        "    axs[0].imshow(word_cloud_cs, interpolation = 'bilinear')\n",
        "    axs[0].set_title('顧客対応履歴', fontproperties = jp_font)\n",
        "    axs[0].axis('off')\n",
        "\n",
        "    axs[1].imshow(word_cloud_incident, interpolation = 'bilinear')\n",
        "    axs[1].set_title('インシデント', fontproperties = jp_font)\n",
        "    axs[1].axis('off')\n",
        "\n",
        "    axs[2].imshow(word_cloud_rate, interpolation = 'bilinear')\n",
        "    axs[2].set_title('インシデント率', fontproperties = jp_font)\n",
        "    axs[2].axis('off')\n",
        "\n",
        "    # モデルの表示\n",
        "    plt.tight_layout()\n",
        "    plt.show()\n",
        "\n",
        "    # データフレームの表示\n",
        "    def display_side_by_side(*display_dfs):\n",
        "      html_str = ''\n",
        "      for df in display_dfs:\n",
        "        df.index = np.arange(1, len(df)+1)\n",
        "        html_str += df.head(50).to_html() + \"\\t\"\n",
        "      display(HTML('<div style=\"display: flex; justify-content: space-around;\">' + html_str + '</div>'))\n",
        "\n",
        "    display_side_by_side(cs_word_cloud_df, incident_word_cloud_df, cs_incident_rate_df)\n",
        "  except:\n",
        "    print('エラー：表示するデータがありません')"
      ],
      "metadata": {
        "id": "dQl0Hoxuw4kK"
      },
      "execution_count": null,
      "outputs": []
    },
    {
      "cell_type": "markdown",
      "source": [
        "# メンバー選択"
      ],
      "metadata": {
        "id": "O03FU6-zQr9h"
      }
    },
    {
      "cell_type": "code",
      "source": [
        "# メンバーリストの取得\n",
        "member_list = pd.read_csv('member.csv')"
      ],
      "metadata": {
        "id": "3HX_7g8rQriw"
      },
      "execution_count": null,
      "outputs": []
    },
    {
      "cell_type": "code",
      "source": [
        "# 選択肢のリスト\n",
        "options_list = [''] + list(member_list['Name'])\n",
        "\n",
        "# ドロップダウンウィジェットを作成\n",
        "dropdown = widgets.Dropdown(\n",
        "  options = options_list,\n",
        "  value = options_list[0],\n",
        "  description = 'メンバー：',\n",
        "  disabled = False,\n",
        ")\n",
        "\n",
        "label = widgets.Label(value='選択されたメンバー：')\n",
        "\n",
        "def execute(selected_member):\n",
        "    if selected_member == '':\n",
        "      return None\n",
        "    else:\n",
        "      display(label)\n",
        "      contract_id_list = implement_extract(selected_member)\n",
        "      word_cloud(contract_id_list)\n",
        "\n",
        "def dropdown_change(change):\n",
        "  if change['type'] == 'change' and change['name'] == 'value':\n",
        "    new_value = change['new']\n",
        "    label.value = f'選択されたメンバー： {new_value}'\n",
        "    clear_output()\n",
        "    execute(new_value)\n",
        "    display(dropdown)\n",
        "\n",
        "dropdown.observe(dropdown_change, names='value')"
      ],
      "metadata": {
        "id": "9qgP9ULoRlD5"
      },
      "execution_count": null,
      "outputs": []
    },
    {
      "cell_type": "markdown",
      "source": [
        "# 表示"
      ],
      "metadata": {
        "id": "ZwInSQQUwqsD"
      }
    },
    {
      "cell_type": "code",
      "source": [
        "display(dropdown)"
      ],
      "metadata": {
        "id": "gIs0BBrQwWBN"
      },
      "execution_count": null,
      "outputs": []
    }
  ]
}